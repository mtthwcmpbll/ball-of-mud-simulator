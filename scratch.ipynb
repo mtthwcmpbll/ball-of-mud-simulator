{
 "cells": [
  {
   "attachments": {},
   "cell_type": "markdown",
   "metadata": {},
   "source": [
    "# Building a Big Ball of Mud\n",
    "\n",
    "1. start up a Neo4J graph database\n",
    "1. Add services to the graph database\n",
    "1. Add a bunch of random JSON schemas to the database.  Ask ChatGPT to write these for you?\n",
    "1. Connect all of the services to a random set of other services as dependencies, and attach a random JSON schema to that dependency\n",
    "1. Generate small scripts - when you call this service's endpoint, it needs to do 0-3 other calls\n",
    "1. Validate there are no cycles in the graph?\n",
    "\n"
   ]
  },
  {
   "cell_type": "code",
   "execution_count": null,
   "metadata": {},
   "outputs": [],
   "source": [
    "# Connect to Neo4j\n",
    "\n",
    "import os\n",
    "\n",
    "from neo4j import GraphDatabase\n",
    "from py2neo import Graph, Node, Relationship\n",
    "\n",
    "import base64\n",
    "from IPython.display import Image, display\n",
    "import matplotlib.pyplot as plt\n",
    "\n",
    "import pycorpora\n",
    "import random\n",
    "import re\n",
    "\n",
    "import pandas as pd\n",
    "import numpy as np"
   ]
  },
  {
   "cell_type": "code",
   "execution_count": null,
   "metadata": {},
   "outputs": [],
   "source": [
    "APPLICATION_COUNT = 20\n",
    "APIS_PER_APPLICATION = 4"
   ]
  },
  {
   "cell_type": "code",
   "execution_count": null,
   "metadata": {},
   "outputs": [],
   "source": [
    "# driver = GraphDatabase.driver(\"bolt://localhost:7687\", auth=(\"neo4j\", \"neo4j\"))\n",
    "\n",
    "# def neo4j_query(query, parameters=None, db=None):\n",
    "#     assert driver is not None, \"Driver not initialized!\"\n",
    "#     session = None\n",
    "#     response = None\n",
    "#     try:\n",
    "#         session = driver.session(database=db) if db is not None else driver.session() \n",
    "#         response = list(session.run(query, parameters))\n",
    "#     except Exception as e:\n",
    "#         print(\"Query failed:\", e)\n",
    "#     finally:\n",
    "#         if session is not None:\n",
    "#             session.close()\n",
    "#     return response"
   ]
  },
  {
   "cell_type": "code",
   "execution_count": null,
   "metadata": {},
   "outputs": [],
   "source": [
    "graph = Graph()\n",
    "def neo4j_query(query, parameters=None):\n",
    "    response = None\n",
    "    try:\n",
    "        response = graph.run(query, parameters)\n",
    "    except Exception as e:\n",
    "        print(\"Query failed:\", e)\n",
    "    return response.to_data_frame()"
   ]
  },
  {
   "cell_type": "code",
   "execution_count": null,
   "metadata": {},
   "outputs": [],
   "source": [
    "graph.delete_all()\n",
    "# neo4j_query(\"MATCH (n1)-[r]->(n2) DELETE r, n1, n2\")\n",
    "# neo4j_query(\"MATCH (n:Service) DELETE n\")\n",
    "# neo4j_query(\"MATCH (n:HttpEndpoint) DELETE n\")\n",
    "# neo4j_query(\"MATCH (n:MessagingEndpoint) DELETE n\")\n",
    "# neo4j_query(\"MATCH (n:Schema) DELETE n\")"
   ]
  },
  {
   "attachments": {},
   "cell_type": "markdown",
   "metadata": {},
   "source": [
    "Our goal is to create a database that looks something like the following:"
   ]
  },
  {
   "cell_type": "code",
   "execution_count": null,
   "metadata": {},
   "outputs": [],
   "source": [
    "def mm(graph):\n",
    "  graphbytes = graph.encode(\"ascii\")\n",
    "  base64_bytes = base64.b64encode(graphbytes)\n",
    "  base64_string = base64_bytes.decode(\"ascii\")\n",
    "  display(Image(url=\"https://mermaid.ink/img/\" + base64_string))\n",
    "\n",
    "mm(\"\"\"\n",
    "flowchart LR\n",
    "    service1((Service A)) -- :PRODUCES --> httpEndpoint((HTTP Endpoint))\n",
    "    service1((Service A)) -- :PUBLISHES --> messageEndpoint((Message Endpoint))\n",
    "    httpEndpoint((HTTP Endpoint)) -- :CONSUMES --> service2((Service B))\n",
    "    messageEndpoint((Message Endpoint)) -- :SUBSCRIBES --> service2((Service B))\n",
    "\"\"\")"
   ]
  },
  {
   "attachments": {},
   "cell_type": "markdown",
   "metadata": {},
   "source": [
    "## Add Services to the database"
   ]
  },
  {
   "cell_type": "code",
   "execution_count": null,
   "metadata": {},
   "outputs": [],
   "source": [
    "# print(random.choice(pycorpora.words[\"infinitive_verbs\"]))\n",
    "\n",
    "available_schemas = {}\n",
    "\n",
    "for file in os.listdir(\"schemas\"):\n",
    "  if file.endswith(\".json\"):\n",
    "    with open(os.path.join(\"schemas\", file), \"r\") as f:\n",
    "      schema = f.read()\n",
    "      available_schemas[file] = schema\n",
    "      graph.run(\"CREATE (s:Schema {file: $file, schema: $schema})\", {\"file\": file, \"schema\": schema})"
   ]
  },
  {
   "cell_type": "code",
   "execution_count": null,
   "metadata": {},
   "outputs": [],
   "source": [
    "graph.run('CREATE CONSTRAINT services IF NOT EXISTS FOR (s:Service) REQUIRE s.name IS UNIQUE')\n",
    "graph.run('CREATE CONSTRAINT endpoints IF NOT EXISTS FOR (e:HttpEndpoint) REQUIRE e.name IS UNIQUE')\n",
    "graph.run('CREATE CONSTRAINT endpoints IF NOT EXISTS FOR (d:Schema) REQUIRE d.file IS UNIQUE')\n",
    "# neo4j_query('CREATE CONSTRAINT authors IF NOT EXISTS ON (a:Author) ASSERT a.name IS UNIQUE')\n",
    "# neo4j_query('CREATE CONSTRAINT categories IF NOT EXISTS ON (c:Category) ASSERT c.category IS UNIQUE')\n",
    "\n",
    "def create_service(name):\n",
    "  graph.run(\"CREATE (s:Service) \"\n",
    "                \"SET s.name = '%s' \"\n",
    "                \"RETURN s\" % (name))\n",
    "  endpoints = random.sample(pycorpora.words[\"infinitive_verbs\"], k=APIS_PER_APPLICATION)\n",
    "  for endpoint in endpoints:\n",
    "    path = \"/\"+endpoint\n",
    "    randomSchema = random.choice(list(available_schemas.keys()))\n",
    "    e_result = graph.run(\"CREATE (e:HttpEndpoint) \"\n",
    "                  \"SET e.name = '%s' \"\n",
    "                  \"SET e.path = '%s' \"\n",
    "                  \"RETURN e\" % (name+\":\"+path, path))\n",
    "    graph.run(\"MATCH (s:Service), (e:HttpEndpoint), (d:Schema) \"\n",
    "                  \"WHERE s.name = '%s' AND e.name = '%s' AND d.file = '%s' \"\n",
    "                  \"MERGE (s)-[se:PRODUCES]->(e) \"\n",
    "                  \"MERGE (e)-[ed:VALIDATES]->(d) \"\n",
    "                  \"RETURN se, ed\" % (name, name+\":\"+path, randomSchema))"
   ]
  },
  {
   "cell_type": "code",
   "execution_count": null,
   "metadata": {},
   "outputs": [],
   "source": [
    "knots = random.sample(pycorpora.technology.knots['knots'], k=APPLICATION_COUNT)\n",
    "techs = random.sample(pycorpora.technology.new_technologies['technologies'], k=APPLICATION_COUNT)\n",
    "for i in range(APPLICATION_COUNT):  \n",
    "  randomServiceName = knots[i].lower().replace(\" \", \"-\") + \"-\" + techs[i].lower().replace(\" \", \"-\")\n",
    "  randomServiceName = re.sub(\"[^a-zA-Z0-9-]\", \"\", randomServiceName)\n",
    "\n",
    "  create_service(randomServiceName)\n",
    "\n",
    "# Create random service dependencies\n",
    "for i in range(APPLICATION_COUNT):\n",
    "  graph.run(\"MATCH (s:Service)-[:PRODUCES]->(e:HttpEndpoint), (s2:Service) \"\n",
    "                \"WITH apoc.coll.randomItems(COLLECT(e), 4) AS endpoints, apoc.coll.randomItems(COLLECT(s), 1) AS consumers \"\n",
    "                \"WHERE SIZE(endpoints) > 1 AND SIZE(consumers) > 0 \"\n",
    "                \"UNWIND RANGE(0, SIZE(endpoints)/2*2-1) AS i \"\n",
    "                \"WITH endpoints[i] AS endpoint, consumers[0] AS consumer \"\n",
    "                \"WHERE NOT (consumer)-[:PRODUCES]->(endpoint) \"\n",
    "                \"MERGE (consumer)-[:CONSUMES]->(endpoint)\")"
   ]
  },
  {
   "cell_type": "code",
   "execution_count": null,
   "metadata": {},
   "outputs": [],
   "source": [
    "graph.query(\"MATCH (p:Service)-[:PRODUCES]->(e:HttpEndpoint)<-[:CONSUMES]-(c:Service) RETURN p.name, e.id, c.name\").to_data_frame()"
   ]
  },
  {
   "cell_type": "code",
   "execution_count": null,
   "metadata": {},
   "outputs": [],
   "source": [
    "graph.query(\"MATCH (e:HttpEndpoint)<-[:CONSUMES]-(c:Service) \" \n",
    "            \"RETURN e.name, COUNT(c) AS deps \"\n",
    "            \"ORDER BY deps DESC\").to_data_frame()"
   ]
  }
 ],
 "metadata": {
  "kernelspec": {
   "display_name": "jupyter",
   "language": "python",
   "name": "python3"
  },
  "language_info": {
   "codemirror_mode": {
    "name": "ipython",
    "version": 3
   },
   "file_extension": ".py",
   "mimetype": "text/x-python",
   "name": "python",
   "nbconvert_exporter": "python",
   "pygments_lexer": "ipython3",
   "version": "3.10.6"
  },
  "orig_nbformat": 4
 },
 "nbformat": 4,
 "nbformat_minor": 2
}
